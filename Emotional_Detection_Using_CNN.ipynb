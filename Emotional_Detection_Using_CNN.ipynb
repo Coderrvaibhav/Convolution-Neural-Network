{
 "cells": [
  {
   "cell_type": "code",
   "execution_count": 1,
   "id": "3dacb704",
   "metadata": {},
   "outputs": [],
   "source": [
    "from tensorflow.keras.preprocessing.image import ImageDataGenerator"
   ]
  },
  {
   "cell_type": "code",
   "execution_count": 2,
   "id": "d74e487e",
   "metadata": {},
   "outputs": [],
   "source": [
    "train_dir = 'C:\\\\Users\\\\vaibhav\\\\Downloads\\\\archive\\\\train'\n",
    "test_dir = 'C:\\\\Users\\\\vaibhav\\\\Downloads\\\\archive\\\\test'"
   ]
  },
  {
   "cell_type": "code",
   "execution_count": 3,
   "id": "706c9db4",
   "metadata": {},
   "outputs": [],
   "source": [
    "imagee_size = (48,48)\n",
    "batchh_size =32 "
   ]
  },
  {
   "cell_type": "code",
   "execution_count": 4,
   "id": "c028320e",
   "metadata": {},
   "outputs": [],
   "source": [
    "train_datagen = ImageDataGenerator(\n",
    "                rescale=1.0/255,\n",
    "                validation_split = 0.2\n",
    "    \n",
    ")"
   ]
  },
  {
   "cell_type": "code",
   "execution_count": 5,
   "id": "87fa2d83",
   "metadata": {},
   "outputs": [],
   "source": [
    "test_datagen = ImageDataGenerator(rescale = 1.0/255)"
   ]
  },
  {
   "cell_type": "code",
   "execution_count": 6,
   "id": "083f938b",
   "metadata": {},
   "outputs": [
    {
     "name": "stdout",
     "output_type": "stream",
     "text": [
      "Found 22968 images belonging to 7 classes.\n"
     ]
    }
   ],
   "source": [
    "train_data = train_datagen.flow_from_directory(train_dir,\n",
    "                                              target_size = imagee_size,\n",
    "                                              color_mode = 'grayscale',\n",
    "                                              class_mode = 'categorical',\n",
    "                                              batch_size = batchh_size,\n",
    "                                              subset='training')"
   ]
  },
  {
   "cell_type": "code",
   "execution_count": 7,
   "id": "cb3413c5",
   "metadata": {},
   "outputs": [
    {
     "name": "stdout",
     "output_type": "stream",
     "text": [
      "Found 7178 images belonging to 7 classes.\n"
     ]
    }
   ],
   "source": [
    "test_data = test_datagen.flow_from_directory(\n",
    "                                        test_dir,\n",
    "                                        target_size = imagee_size,\n",
    "                                        color_mode = 'grayscale',\n",
    "                                        class_mode = 'categorical',\n",
    "                                        batch_size = batchh_size)"
   ]
  },
  {
   "cell_type": "code",
   "execution_count": 8,
   "id": "cad09c30",
   "metadata": {},
   "outputs": [
    {
     "name": "stdout",
     "output_type": "stream",
     "text": [
      "Found 5741 images belonging to 7 classes.\n"
     ]
    }
   ],
   "source": [
    "val_data = train_datagen.flow_from_directory(\n",
    "                                            train_dir,\n",
    "target_size = imagee_size,\n",
    "color_mode = 'grayscale',\n",
    "class_mode = 'categorical',\n",
    "batch_size = batchh_size,\n",
    "subset='validation')"
   ]
  },
  {
   "cell_type": "code",
   "execution_count": 9,
   "id": "28c48a28",
   "metadata": {},
   "outputs": [
    {
     "name": "stdout",
     "output_type": "stream",
     "text": [
      "Class indices: {'angry': 0, 'disgust': 1, 'fear': 2, 'happy': 3, 'neutral': 4, 'sad': 5, 'surprise': 6}\n"
     ]
    }
   ],
   "source": [
    "print(\"Class indices:\",train_data.class_indices)"
   ]
  },
  {
   "cell_type": "code",
   "execution_count": 10,
   "id": "011fe27d",
   "metadata": {},
   "outputs": [
    {
     "name": "stdout",
     "output_type": "stream",
     "text": [
      "Training samples: 22968\n",
      "Validation samples: 5741\n",
      "Testing samples: 7178\n"
     ]
    }
   ],
   "source": [
    "print(f\"Training samples: {train_data.samples}\")\n",
    "print(f\"Validation samples: {val_data.samples}\")\n",
    "print(f\"Testing samples: {test_data.samples}\")"
   ]
  },
  {
   "cell_type": "code",
   "execution_count": 11,
   "id": "8271a834",
   "metadata": {},
   "outputs": [],
   "source": [
    "from tensorflow.keras.models import Sequential"
   ]
  },
  {
   "cell_type": "code",
   "execution_count": 13,
   "id": "6020fc75",
   "metadata": {},
   "outputs": [],
   "source": [
    "from tensorflow.keras.layers import Conv2D,MaxPooling2D, Flatten , Dense ,Dropout"
   ]
  },
  {
   "cell_type": "code",
   "execution_count": 14,
   "id": "bb110e7b",
   "metadata": {},
   "outputs": [],
   "source": [
    "model = Sequential([\n",
    "    \n",
    "    \n",
    "    Conv2D(32,(3,3),activation = 'relu',input_shape=(48,48,1)),\n",
    "    MaxPooling2D((2,2)),\n",
    "    Dropout(0.25),\n",
    "    \n",
    "    Conv2D(64,(3,3),activation = 'relu'),\n",
    "    MaxPooling2D((2,2)),\n",
    "    Dropout(0.25),\n",
    "    \n",
    "    \n",
    "    Conv2D(128,(3,3),activation = 'relu'),\n",
    "    MaxPooling2D((2,2)),\n",
    "    Dropout(0.4),\n",
    "    \n",
    "    \n",
    "    Flatten(),\n",
    "    Dense(128,activation='relu'),\n",
    "    Dropout(0.5),\n",
    "    Dense(7,activation='softmax')\n",
    "])"
   ]
  },
  {
   "cell_type": "code",
   "execution_count": 15,
   "id": "6dc6fa78",
   "metadata": {},
   "outputs": [],
   "source": [
    "model.compile(optimizer='adam',loss = 'categorical_crossentropy',\n",
    "             metrics=['accuracy'])"
   ]
  },
  {
   "cell_type": "code",
   "execution_count": 16,
   "id": "608281c8",
   "metadata": {},
   "outputs": [
    {
     "name": "stdout",
     "output_type": "stream",
     "text": [
      "Model: \"sequential\"\n",
      "_________________________________________________________________\n",
      " Layer (type)                Output Shape              Param #   \n",
      "=================================================================\n",
      " conv2d (Conv2D)             (None, 46, 46, 32)        320       \n",
      "                                                                 \n",
      " max_pooling2d (MaxPooling2  (None, 23, 23, 32)        0         \n",
      " D)                                                              \n",
      "                                                                 \n",
      " dropout (Dropout)           (None, 23, 23, 32)        0         \n",
      "                                                                 \n",
      " conv2d_1 (Conv2D)           (None, 21, 21, 64)        18496     \n",
      "                                                                 \n",
      " max_pooling2d_1 (MaxPoolin  (None, 10, 10, 64)        0         \n",
      " g2D)                                                            \n",
      "                                                                 \n",
      " dropout_1 (Dropout)         (None, 10, 10, 64)        0         \n",
      "                                                                 \n",
      " conv2d_2 (Conv2D)           (None, 8, 8, 128)         73856     \n",
      "                                                                 \n",
      " max_pooling2d_2 (MaxPoolin  (None, 4, 4, 128)         0         \n",
      " g2D)                                                            \n",
      "                                                                 \n",
      " dropout_2 (Dropout)         (None, 4, 4, 128)         0         \n",
      "                                                                 \n",
      " flatten (Flatten)           (None, 2048)              0         \n",
      "                                                                 \n",
      " dense (Dense)               (None, 128)               262272    \n",
      "                                                                 \n",
      " dropout_3 (Dropout)         (None, 128)               0         \n",
      "                                                                 \n",
      " dense_1 (Dense)             (None, 7)                 903       \n",
      "                                                                 \n",
      "=================================================================\n",
      "Total params: 355847 (1.36 MB)\n",
      "Trainable params: 355847 (1.36 MB)\n",
      "Non-trainable params: 0 (0.00 Byte)\n",
      "_________________________________________________________________\n"
     ]
    }
   ],
   "source": [
    "model.summary()"
   ]
  },
  {
   "cell_type": "code",
   "execution_count": 20,
   "id": "a1d9ecc4",
   "metadata": {},
   "outputs": [
    {
     "name": "stdout",
     "output_type": "stream",
     "text": [
      "Epoch 1/25\n",
      "718/718 [==============================] - 1015s 1s/step - loss: 1.7951 - accuracy: 0.2598 - val_loss: 1.6926 - val_accuracy: 0.3341\n",
      "Epoch 2/25\n",
      "718/718 [==============================] - 94s 131ms/step - loss: 1.6325 - accuracy: 0.3548 - val_loss: 1.5083 - val_accuracy: 0.4132\n",
      "Epoch 3/25\n",
      "718/718 [==============================] - 95s 132ms/step - loss: 1.5110 - accuracy: 0.4141 - val_loss: 1.4363 - val_accuracy: 0.4581\n",
      "Epoch 4/25\n",
      "718/718 [==============================] - 94s 130ms/step - loss: 1.4616 - accuracy: 0.4384 - val_loss: 1.3768 - val_accuracy: 0.4713\n",
      "Epoch 5/25\n",
      "718/718 [==============================] - 96s 134ms/step - loss: 1.4065 - accuracy: 0.4582 - val_loss: 1.3224 - val_accuracy: 0.4922\n",
      "Epoch 6/25\n",
      "718/718 [==============================] - 97s 134ms/step - loss: 1.3748 - accuracy: 0.4765 - val_loss: 1.3046 - val_accuracy: 0.5065\n",
      "Epoch 7/25\n",
      "718/718 [==============================] - 97s 135ms/step - loss: 1.3521 - accuracy: 0.4851 - val_loss: 1.2768 - val_accuracy: 0.5125\n",
      "Epoch 8/25\n",
      "718/718 [==============================] - 92s 129ms/step - loss: 1.3285 - accuracy: 0.4926 - val_loss: 1.2590 - val_accuracy: 0.5208\n",
      "Epoch 9/25\n",
      "718/718 [==============================] - 93s 129ms/step - loss: 1.3094 - accuracy: 0.5028 - val_loss: 1.2390 - val_accuracy: 0.5297\n",
      "Epoch 10/25\n",
      "718/718 [==============================] - 89s 124ms/step - loss: 1.2898 - accuracy: 0.5089 - val_loss: 1.2239 - val_accuracy: 0.5358\n",
      "Epoch 11/25\n",
      "718/718 [==============================] - 89s 124ms/step - loss: 1.2748 - accuracy: 0.5137 - val_loss: 1.2104 - val_accuracy: 0.5396\n",
      "Epoch 12/25\n",
      "718/718 [==============================] - 91s 126ms/step - loss: 1.2560 - accuracy: 0.5207 - val_loss: 1.2195 - val_accuracy: 0.5354\n",
      "Epoch 13/25\n",
      "718/718 [==============================] - 90s 125ms/step - loss: 1.2569 - accuracy: 0.5178 - val_loss: 1.1926 - val_accuracy: 0.5466\n",
      "Epoch 14/25\n",
      "718/718 [==============================] - 89s 124ms/step - loss: 1.2395 - accuracy: 0.5292 - val_loss: 1.1913 - val_accuracy: 0.5501\n",
      "Epoch 15/25\n",
      "718/718 [==============================] - 90s 125ms/step - loss: 1.2210 - accuracy: 0.5370 - val_loss: 1.1723 - val_accuracy: 0.5555\n",
      "Epoch 16/25\n",
      "718/718 [==============================] - 91s 127ms/step - loss: 1.2138 - accuracy: 0.5412 - val_loss: 1.1809 - val_accuracy: 0.5548\n",
      "Epoch 17/25\n",
      "718/718 [==============================] - 97s 135ms/step - loss: 1.2058 - accuracy: 0.5424 - val_loss: 1.1685 - val_accuracy: 0.5616\n",
      "Epoch 18/25\n",
      "718/718 [==============================] - 95s 133ms/step - loss: 1.1952 - accuracy: 0.5501 - val_loss: 1.1713 - val_accuracy: 0.5583\n",
      "Epoch 19/25\n",
      "718/718 [==============================] - 96s 134ms/step - loss: 1.1961 - accuracy: 0.5492 - val_loss: 1.1764 - val_accuracy: 0.5551\n",
      "Epoch 20/25\n",
      "718/718 [==============================] - 94s 131ms/step - loss: 1.1837 - accuracy: 0.5493 - val_loss: 1.1523 - val_accuracy: 0.5694\n",
      "Epoch 21/25\n",
      "718/718 [==============================] - 94s 131ms/step - loss: 1.1717 - accuracy: 0.5545 - val_loss: 1.1468 - val_accuracy: 0.5724\n",
      "Epoch 22/25\n",
      "718/718 [==============================] - 94s 131ms/step - loss: 1.1677 - accuracy: 0.5586 - val_loss: 1.1505 - val_accuracy: 0.5644\n",
      "Epoch 23/25\n",
      "718/718 [==============================] - 96s 133ms/step - loss: 1.1609 - accuracy: 0.5597 - val_loss: 1.1543 - val_accuracy: 0.5710\n",
      "Epoch 24/25\n",
      "718/718 [==============================] - 96s 133ms/step - loss: 1.1476 - accuracy: 0.5649 - val_loss: 1.1359 - val_accuracy: 0.5710\n",
      "Epoch 25/25\n",
      "718/718 [==============================] - 95s 132ms/step - loss: 1.1497 - accuracy: 0.5630 - val_loss: 1.1473 - val_accuracy: 0.5621\n"
     ]
    }
   ],
   "source": [
    "hot = model.fit(train_data ,validation_data = val_data,epochs = 25,steps_per_epoch = len(train_data),validation_steps = len(val_data))"
   ]
  },
  {
   "cell_type": "code",
   "execution_count": 21,
   "id": "11e48117",
   "metadata": {},
   "outputs": [
    {
     "name": "stdout",
     "output_type": "stream",
     "text": [
      "225/225 [==============================] - 277s 1s/step - loss: 1.1257 - accuracy: 0.5646\n",
      "Test Loss: 1.125705599784851\n",
      "Test Accuracy: 0.5646419525146484\n"
     ]
    }
   ],
   "source": [
    "test_loss, test_accuracy = model.evaluate(test_data)\n",
    "print(f\"Test Loss: {test_loss}\")\n",
    "print(f\"Test Accuracy: {test_accuracy}\")\n"
   ]
  },
  {
   "cell_type": "code",
   "execution_count": 22,
   "id": "255fa711",
   "metadata": {},
   "outputs": [
    {
     "data": {
      "image/png": "[encoded data removed]",
      "text/plain": [
       "<Figure size 640x480 with 1 Axes>"
      ]
     },
     "metadata": {},
     "output_type": "display_data"
    }
   ],
   "source": [
    "import matplotlib.pyplot as plt\n",
    "\n",
    "# Plot training & validation accuracy\n",
    "plt.plot(hot.history['accuracy'], label='Train Accuracy')\n",
    "plt.plot(hot.history['val_accuracy'], label='Validation Accuracy')\n",
    "plt.title('Model Accuracy')\n",
    "plt.xlabel('Epochs')\n",
    "plt.ylabel('Accuracy')\n",
    "plt.legend()\n",
    "plt.show()\n"
   ]
  },
  {
   "cell_type": "code",
   "execution_count": 23,
   "id": "84b4c955",
   "metadata": {},
   "outputs": [
    {
     "data": {
      "image/png": "[encoded data removed]",
      "text/plain": [
       "<Figure size 640x480 with 1 Axes>"
      ]
     },
     "metadata": {},
     "output_type": "display_data"
    }
   ],
   "source": [
    "\n",
    "# Plot training & validation loss\n",
    "plt.plot(hot.history['loss'], label='Train Loss')\n",
    "plt.plot(hot.history['val_loss'], label='Validation Loss')\n",
    "plt.title('Model Loss')\n",
    "plt.xlabel('Epochs')\n",
    "plt.ylabel('Loss')\n",
    "plt.legend()\n",
    "plt.show()\n"
   ]
  },
  {
   "cell_type": "code",
   "execution_count": 27,
   "id": "81509433",
   "metadata": {},
   "outputs": [
    {
     "name": "stdout",
     "output_type": "stream",
     "text": [
      "1/1 [==============================] - 0s 110ms/step\n",
      "Predicted Emotion: sad\n"
     ]
    }
   ],
   "source": [
    "import numpy as np\n",
    "from tensorflow.keras.preprocessing import image\n",
    "\n",
    "# Load a sample image\n",
    "img_path = \"PrivateTest_2233220.jpg\"  # Replace with the path to your image\n",
    "img = image.load_img(img_path, target_size=(48, 48), color_mode='grayscale')\n",
    "img_array = image.img_to_array(img) / 255.0\n",
    "img_array = np.expand_dims(img_array, axis=0)\n",
    "\n",
    "# Predict the emotion\n",
    "predictions = model.predict(img_array)\n",
    "emotion_classes = list(train_data.class_indices.keys())  # ['angry', 'disgust', ...]\n",
    "predicted_emotion = emotion_classes[np.argmax(predictions)]\n",
    "print(f\"Predicted Emotion: {predicted_emotion}\")\n"
   ]
  },
  {
   "cell_type": "code",
   "execution_count": 2,
   "id": "00e1bc18",
   "metadata": {},
   "outputs": [],
   "source": [
    "import os\n",
    "import subprocess"
   ]
  },
  {
   "cell_type": "code",
   "execution_count": 7,
   "id": "fed2e4e7",
   "metadata": {},
   "outputs": [],
   "source": [
    "repo_url = 'https://github.com/Coderrvaibhav/Convolution-Neural-Network.git'"
   ]
  },
  {
   "cell_type": "code",
   "execution_count": 8,
   "id": "03820004",
   "metadata": {},
   "outputs": [],
   "source": [
    "repo_name = 'Emotional_Detection_Using_CNN'"
   ]
  },
  {
   "cell_type": "code",
   "execution_count": 9,
   "id": "46371589",
   "metadata": {},
   "outputs": [
    {
     "name": "stdout",
     "output_type": "stream",
     "text": [
      "The repository 'Emotional_Detection_Using_CNN' already exists.\n"
     ]
    }
   ],
   "source": [
    "if not os.path.exists(repo_name):\n",
    "    subprocess.run([\"git\", \"clone\", repo_url])\n",
    "    print(f\"Repository '{repo_name}' cloned successfully.\")\n",
    "else:\n",
    "    print(f\"The repository '{repo_name}' already exists.\")"
   ]
  },
  {
   "cell_type": "code",
   "execution_count": 10,
   "id": "e4ce67ff",
   "metadata": {},
   "outputs": [
    {
     "name": "stdout",
     "output_type": "stream",
     "text": [
      "README.md created or updated.\n",
      "All changes staged.\n",
      "Changes committed with message: 'Added CNN folder with README'\n",
      "Changes pushed to GitHub.\n"
     ]
    }
   ],
   "source": [
    "\n",
    "# Step 2: Add or modify files\n",
    "repo_path = os.path.join(os.getcwd(), repo_name)\n",
    "cnn_folder = os.path.join(repo_path, \"CNN\")\n",
    "\n",
    "if not os.path.exists(cnn_folder):\n",
    "    os.makedirs(cnn_folder)\n",
    "    print(\"CNN folder created.\")\n",
    "\n",
    "readme_path = os.path.join(cnn_folder, \"README.md\")\n",
    "with open(readme_path, \"w\") as f:\n",
    "    f.write(\"# CNN Projects\\n\\nThis folder contains CNN-related projects.\")\n",
    "    print(\"README.md created or updated.\")\n",
    "\n",
    "# Step 3: Stage changes\n",
    "subprocess.run([\"git\", \"-C\", repo_path, \"add\", \".\"])\n",
    "print(\"All changes staged.\")\n",
    "\n",
    "# Step 4: Commit changes\n",
    "commit_message = \"Added CNN folder with README\"\n",
    "subprocess.run([\"git\", \"-C\", repo_path, \"commit\", \"-m\", commit_message])\n",
    "print(f\"Changes committed with message: '{commit_message}'\")\n",
    "\n",
    "# Step 5: Push changes to GitHub\n",
    "subprocess.run([\"git\", \"-C\", repo_path, \"push\"])\n",
    "print(\"Changes pushed to GitHub.\")"
   ]
  },
  {
   "cell_type": "code",
   "execution_count": null,
   "id": "c89ba057",
   "metadata": {},
   "outputs": [],
   "source": []
  }
 ],
 "metadata": {
  "kernelspec": {
   "display_name": "Python 3 (ipykernel)",
   "language": "python",
   "name": "python3"
  },
  "language_info": {
   "codemirror_mode": {
    "name": "ipython",
    "version": 3
   },
   "file_extension": ".py",
   "mimetype": "text/x-python",
   "name": "python",
   "nbconvert_exporter": "python",
   "pygments_lexer": "ipython3",
   "version": "3.11.5"
  }
 },
 "nbformat": 4,
 "nbformat_minor": 5
}
